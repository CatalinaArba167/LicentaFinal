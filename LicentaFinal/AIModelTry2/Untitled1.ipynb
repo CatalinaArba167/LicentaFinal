{
 "cells": [
  {
   "cell_type": "code",
   "execution_count": 2,
   "id": "4b0b75d3-a1fc-4ff9-abfb-e9b61b8c5733",
   "metadata": {},
   "outputs": [
    {
     "data": {
      "text/plain": [
       "Automatic    6446\n",
       "Tiptronic    1454\n",
       "Manual        880\n",
       "Variator      379\n",
       "Name: gear_box_type, dtype: int64"
      ]
     },
     "execution_count": 2,
     "metadata": {},
     "output_type": "execute_result"
    }
   ],
   "source": [
    "import pandas as pd\n",
    "import numpy as np\n",
    "from sklearn.model_selection import train_test_split\n",
    "from sklearn.linear_model import LinearRegression\n",
    "from sklearn.preprocessing import StandardScaler\n",
    "from sklearn.ensemble import RandomForestRegressor\n",
    "from sklearn.ensemble import BaggingRegressor\n",
    "from sklearn.metrics import mean_absolute_error\n",
    "from sklearn.metrics import r2_score\n",
    "import joblib\n",
    "\n",
    "data=pd.read_csv(\"C:/Users/arbac/Downloads/LicentaAIModel/car_price_prediction.csv\")\n",
    "data.columns = data.columns.str.lower().str.replace(' ', '_').str.replace('-', '_')\n",
    "data.gear_box_type.value_counts()"
   ]
  },
  {
   "cell_type": "code",
   "execution_count": 4,
   "id": "c6471030-8376-420c-939d-65baea6cb85a",
   "metadata": {},
   "outputs": [
    {
     "data": {
      "text/plain": [
       "Front    6148\n",
       "4x4      1923\n",
       "Rear     1088\n",
       "Name: drive_wheels, dtype: int64"
      ]
     },
     "execution_count": 4,
     "metadata": {},
     "output_type": "execute_result"
    }
   ],
   "source": [
    "data.drive_wheels.value_counts()"
   ]
  },
  {
   "cell_type": "code",
   "execution_count": 5,
   "id": "e0747442-2cbe-4324-97f3-3951a62a82ff",
   "metadata": {},
   "outputs": [
    {
     "data": {
      "text/plain": [
       "4-May    8711\n",
       "2-Mar     391\n",
       ">5         57\n",
       "Name: doors, dtype: int64"
      ]
     },
     "execution_count": 5,
     "metadata": {},
     "output_type": "execute_result"
    }
   ],
   "source": [
    "data.doors.value_counts()\n"
   ]
  },
  {
   "cell_type": "code",
   "execution_count": 6,
   "id": "daec5d3c-50d4-4649-a14b-81376e991cdb",
   "metadata": {},
   "outputs": [
    {
     "data": {
      "text/plain": [
       "Left wheel          8424\n",
       "Right-hand drive     735\n",
       "Name: wheel, dtype: int64"
      ]
     },
     "execution_count": 6,
     "metadata": {},
     "output_type": "execute_result"
    }
   ],
   "source": [
    "data.wheel.value_counts()\n"
   ]
  },
  {
   "cell_type": "code",
   "execution_count": 7,
   "id": "f2bacd43-3860-4174-a568-c59788ea9ac8",
   "metadata": {},
   "outputs": [
    {
     "data": {
      "text/plain": [
       "Black            2399\n",
       "White            2127\n",
       "Silver           1832\n",
       "Grey             1114\n",
       "Blue              650\n",
       "Red               318\n",
       "Green             148\n",
       "Orange            114\n",
       "Brown              90\n",
       "Carnelian red      87\n",
       "Beige              66\n",
       "Golden             64\n",
       "Sky blue           60\n",
       "Yellow             58\n",
       "Purple             20\n",
       "Pink               12\n",
       "Name: color, dtype: int64"
      ]
     },
     "execution_count": 7,
     "metadata": {},
     "output_type": "execute_result"
    }
   ],
   "source": [
    "data.color.value_counts()"
   ]
  },
  {
   "cell_type": "code",
   "execution_count": 8,
   "id": "1b433093-67f8-4433-8468-1c5a8190dddd",
   "metadata": {},
   "outputs": [
    {
     "data": {
      "text/plain": [
       "Sedan          4186\n",
       "Jeep           2600\n",
       "Hatchback      1352\n",
       "Minivan         301\n",
       "Coupe           264\n",
       "Universal       166\n",
       "Microbus        128\n",
       "Goods wagon     116\n",
       "Pickup           23\n",
       "Cabriolet        17\n",
       "Limousine         6\n",
       "Name: category, dtype: int64"
      ]
     },
     "execution_count": 8,
     "metadata": {},
     "output_type": "execute_result"
    }
   ],
   "source": [
    "data.category.value_counts()"
   ]
  },
  {
   "cell_type": "code",
   "execution_count": 9,
   "id": "cc8d7c8d-d38e-4b23-bcc9-5f71f45ad02a",
   "metadata": {},
   "outputs": [
    {
     "data": {
      "text/plain": [
       "TOYOTA           1813\n",
       "HYUNDAI          1809\n",
       "MERCEDES-BENZ     970\n",
       "FORD              521\n",
       "CHEVROLET         498\n",
       "BMW               494\n",
       "HONDA             476\n",
       "LEXUS             463\n",
       "NISSAN            290\n",
       "VOLKSWAGEN        253\n",
       "SSANGYONG         215\n",
       "OPEL              189\n",
       "KIA               179\n",
       "MITSUBISHI        141\n",
       "SUBARU            132\n",
       "AUDI              114\n",
       "MAZDA              86\n",
       "JEEP               63\n",
       "DAEWOO             45\n",
       "SUZUKI             44\n",
       "DODGE              41\n",
       "FIAT               39\n",
       "PORSCHE            29\n",
       "LAND ROVER         28\n",
       "VAZ                27\n",
       "MINI               22\n",
       "RENAULT            21\n",
       "JAGUAR             19\n",
       "CHRYSLER           13\n",
       "INFINITI           11\n",
       "ACURA              10\n",
       "LINCOLN            10\n",
       "CADILLAC            9\n",
       "SKODA               9\n",
       "GMC                 8\n",
       "DAIHATSU            8\n",
       "VOLVO               7\n",
       "GAZ                 7\n",
       "BUICK               5\n",
       "PEUGEOT             4\n",
       "CITROEN             4\n",
       "SCION               3\n",
       "UAZ                 3\n",
       "ISUZU               3\n",
       "MOSKVICH            3\n",
       "MERCURY             2\n",
       "BENTLEY             2\n",
       "სხვა                2\n",
       "FERRARI             2\n",
       "HUMMER              2\n",
       "MASERATI            2\n",
       "LANCIA              1\n",
       "SAAB                1\n",
       "TESLA               1\n",
       "SEAT                1\n",
       "ROVER               1\n",
       "ZAZ                 1\n",
       "HAVAL               1\n",
       "ALFA ROMEO          1\n",
       "LAMBORGHINI         1\n",
       "Name: manufacturer, dtype: int64"
      ]
     },
     "execution_count": 9,
     "metadata": {},
     "output_type": "execute_result"
    }
   ],
   "source": [
    "data.manufacturer.value_counts()"
   ]
  },
  {
   "cell_type": "code",
   "execution_count": 11,
   "id": "32c5c62a-45d1-4dd9-a39d-23dc71b31f49",
   "metadata": {},
   "outputs": [
    {
     "data": {
      "text/plain": [
       "True"
      ]
     },
     "execution_count": 11,
     "metadata": {},
     "output_type": "execute_result"
    }
   ],
   "source": [
    "data.model.value_counts()"
   ]
  },
  {
   "cell_type": "code",
   "execution_count": null,
   "id": "d6d60dfc-3c70-49d4-b0ea-a0da3fb4577e",
   "metadata": {},
   "outputs": [],
   "source": []
  }
 ],
 "metadata": {
  "kernelspec": {
   "display_name": "Python 3 (ipykernel)",
   "language": "python",
   "name": "python3"
  },
  "language_info": {
   "codemirror_mode": {
    "name": "ipython",
    "version": 3
   },
   "file_extension": ".py",
   "mimetype": "text/x-python",
   "name": "python",
   "nbconvert_exporter": "python",
   "pygments_lexer": "ipython3",
   "version": "3.9.19"
  }
 },
 "nbformat": 4,
 "nbformat_minor": 5
}
